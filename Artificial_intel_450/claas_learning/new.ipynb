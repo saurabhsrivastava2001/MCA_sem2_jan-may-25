{
 "cells": [
  {
   "cell_type": "code",
   "execution_count": null,
   "metadata": {},
   "outputs": [],
   "source": [
    "#main function\n",
    "x=int(input(\"enter number\"))\n",
    "def fun(x1):\n",
    " x1=x1 -1\n",
    " print(x1)\n",
    " print(x)\n",
    " global x2\n",
    " x2=12*2\n",
    " print(\"x in\")\n",
    " print(x)\n",
    "fun(x)\n",
    "print(\" x2 in main\")\n",
    "print(x2)\n"
   ]
  },
  {
   "cell_type": "code",
   "execution_count": null,
   "metadata": {},
   "outputs": [],
   "source": []
  }
 ],
 "metadata": {
  "kernelspec": {
   "display_name": "DJP-hHPrvnIW",
   "language": "python",
   "name": "python3"
  },
  "language_info": {
   "codemirror_mode": {
    "name": "ipython",
    "version": 3
   },
   "file_extension": ".py",
   "mimetype": "text/x-python",
   "name": "python",
   "nbconvert_exporter": "python",
   "pygments_lexer": "ipython3",
   "version": "3.12.6"
  }
 },
 "nbformat": 4,
 "nbformat_minor": 2
}
